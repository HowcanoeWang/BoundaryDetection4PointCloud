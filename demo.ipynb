{
 "cells": [
  {
   "cell_type": "code",
   "execution_count": 1,
   "metadata": {},
   "outputs": [
    {
     "name": "stdout",
     "output_type": "stream",
     "text": [
      "Jupyter environment detected. Enabling Open3D WebVisualizer.\n",
      "[Open3D INFO] WebRTC GUI backend enabled.\n",
      "[Open3D INFO] WebRTCWindowSystem: HTTP handshake server disabled.\n"
     ]
    }
   ],
   "source": [
    "import plane_extractor\n",
    "import BPD\n",
    "import numpy as np\n",
    "import remove_wall\n",
    "import open3d as o3d\n",
    "import numpy as np\n",
    "from tqdm import tqdm"
   ]
  },
  {
   "attachments": {},
   "cell_type": "markdown",
   "metadata": {},
   "source": [
    "# Load point cloud data"
   ]
  },
  {
   "cell_type": "code",
   "execution_count": 2,
   "metadata": {},
   "outputs": [
    {
     "data": {
      "text/plain": [
       "((7242, 3),\n",
       " array([[1.596447e+02, 1.434000e+00, 4.350000e-02],\n",
       "        [1.588055e+02, 3.018800e+00, 3.200000e-02],\n",
       "        [1.577942e+02, 5.002000e+00, 1.960000e-02],\n",
       "        ...,\n",
       "        [2.136085e+02, 9.413550e+01, 6.056479e+02],\n",
       "        [2.443198e+02, 7.408460e+01, 6.015392e+02],\n",
       "        [2.694602e+02, 5.860350e+01, 5.978210e+02]]))"
      ]
     },
     "execution_count": 2,
     "metadata": {},
     "output_type": "execute_result"
    }
   ],
   "source": [
    "xyz = np.loadtxt('points.txt', delimiter=' ')\n",
    "xyz.shape, xyz"
   ]
  },
  {
   "cell_type": "code",
   "execution_count": 3,
   "metadata": {},
   "outputs": [],
   "source": [
    "pc = o3d.geometry.PointCloud()\n",
    "pc.points = o3d.utility.Vector3dVector(xyz)"
   ]
  },
  {
   "attachments": {},
   "cell_type": "markdown",
   "metadata": {},
   "source": [
    "# Run `main.py` Code\n",
    "\n",
    "The `main.py` file has been removed in this project\n",
    "```python\n",
    "import plane_extractor\n",
    "import BPD\n",
    "import numpy as np\n",
    "import remove_wall\n",
    "import open3d as o3d\n",
    "\n",
    "def display_outlier(points, ind):\n",
    "    inlier = points.select_by_index(ind)\n",
    "    outlier = points.select_by_index(ind, invert=True)\n",
    "    inlier.paint_uniform_color([0.7, 0.7, 0.7])\n",
    "    outlier.paint_uniform_color([1, 0, 0])\n",
    "    o3d.visualization.draw_geometries([inlier, outlier])\n",
    "\n",
    "pc = o3d.io.read_point_cloud(\"cropped_1.ply\")\n",
    "#o3d.visualization.draw_geometries([pc])\n",
    "\n",
    "#plane, high_z, min_z = plane_extractor.extract_plane(pc)\n",
    "#boundary = BPD.cal_boundary(plane, save_filename=\"ceil_boundary.txt\")\n",
    "boundary = np.loadtxt(\"ceil_boundary.txt\")\n",
    "points = np.array(pc.points)\n",
    "high_z = float(np.max(points[:, 2]))\n",
    "min_z = float(np.min(points[:, 2]))\n",
    "\n",
    "props = remove_wall.remove_wall(points, boundary, method=\"cylinder\", radius=0.07, min_z=min_z, high_z=high_z)\n",
    "\n",
    "o3d.visualization.draw_geometries([props])\n",
    "```"
   ]
  },
  {
   "attachments": {},
   "cell_type": "markdown",
   "metadata": {},
   "source": [
    "## Convert 3D point cloud to 2D point cloud\n",
    "\n",
    "Using this function to convert 3D to a plane"
   ]
  },
  {
   "cell_type": "code",
   "execution_count": 4,
   "metadata": {},
   "outputs": [
    {
     "data": {
      "text/plain": [
       "(array([[153.6428, 276.4993],\n",
       "        [144.9014,  91.1236],\n",
       "        [172.3599, 286.54  ],\n",
       "        ...,\n",
       "        [133.5898, 284.2302],\n",
       "        [125.8008, 210.4524],\n",
       "        [126.4546, 200.7356]]),\n",
       " 228.6251,\n",
       " -0.0009)"
      ]
     },
     "execution_count": 4,
     "metadata": {},
     "output_type": "execute_result"
    }
   ],
   "source": [
    "plane, high_z, min_z = plane_extractor.extract_plane(pc)\n",
    "plane, high_z, min_z"
   ]
  },
  {
   "attachments": {},
   "cell_type": "markdown",
   "metadata": {},
   "source": [
    "Boundary detection"
   ]
  },
  {
   "cell_type": "code",
   "execution_count": 12,
   "metadata": {},
   "outputs": [
    {
     "name": "stderr",
     "output_type": "stream",
     "text": [
      "cal_boundary:  24%|██▍       | 581/2380 [00:03<00:09, 182.70it/s]"
     ]
    }
   ],
   "source": [
    "boundary = BPD.cal_boundary(plane)"
   ]
  },
  {
   "attachments": {},
   "cell_type": "markdown",
   "metadata": {},
   "source": [
    "It produces 'fake' 3D results (z axis all 0)"
   ]
  },
  {
   "cell_type": "code",
   "execution_count": 6,
   "metadata": {},
   "outputs": [
    {
     "data": {
      "text/plain": [
       "((457, 3),\n",
       " array([[135.9721, 134.6511,   0.    ],\n",
       "        [131.4434, 189.6365,   0.    ],\n",
       "        [159.5204, 258.5824,   0.    ],\n",
       "        ...,\n",
       "        [125.8008, 210.4524,   0.    ],\n",
       "        [126.4546, 200.7356,   0.    ],\n",
       "        [  0.    ,   0.    ,   0.    ]]))"
      ]
     },
     "execution_count": 6,
     "metadata": {},
     "output_type": "execute_result"
    }
   ],
   "source": [
    "boundary.shape, boundary"
   ]
  },
  {
   "attachments": {},
   "cell_type": "markdown",
   "metadata": {},
   "source": [
    "Draw figures to show the results"
   ]
  },
  {
   "cell_type": "code",
   "execution_count": 5,
   "metadata": {},
   "outputs": [],
   "source": [
    "import matplotlib.pyplot as plt"
   ]
  },
  {
   "cell_type": "code",
   "execution_count": 15,
   "metadata": {},
   "outputs": [
    {
     "data": {
      "text/plain": [
       "array([[1.359721e+02, 1.346511e+02],\n",
       "       [1.314434e+02, 1.896365e+02],\n",
       "       [1.595204e+02, 2.585824e+02],\n",
       "       [1.344551e+02, 1.624210e+02],\n",
       "       [1.355142e+02, 1.444772e+02],\n",
       "       [1.376756e+02, 1.132833e+02],\n",
       "       [1.395316e+02, 1.007762e+02],\n",
       "       [1.355713e+02, 1.578454e+02],\n",
       "       [1.355701e+02, 1.541275e+02],\n",
       "       [1.527145e+02, 2.432432e+02],\n",
       "       [1.352641e+02, 1.569637e+02],\n",
       "       [1.356034e+02, 1.530340e+02],\n",
       "       [1.696421e+02, 1.339610e+01],\n",
       "       [1.356429e+02, 1.527899e+02],\n",
       "       [1.694124e+02, 5.815070e+01],\n",
       "       [1.876162e+02, 2.772780e+01],\n",
       "       [1.382977e+02, 1.867535e+02],\n",
       "       [1.431774e+02, 2.126132e+02],\n",
       "       [1.286622e+02, 2.140053e+02],\n",
       "       [1.403539e+02, 2.000083e+02],\n",
       "       [1.682406e+02, 1.509610e+01],\n",
       "       [1.643505e+02, 2.681113e+02],\n",
       "       [1.358335e+02, 1.634998e+02],\n",
       "       [1.356624e+02, 1.594362e+02],\n",
       "       [1.779928e+02, 2.945781e+02],\n",
       "       [1.497291e+02, 2.348416e+02],\n",
       "       [1.356258e+02, 1.599319e+02],\n",
       "       [1.354938e+02, 1.553364e+02],\n",
       "       [1.331385e+02, 1.691082e+02],\n",
       "       [1.407851e+02, 2.021787e+02],\n",
       "       [1.394944e+02, 2.926417e+02],\n",
       "       [1.490927e+02, 2.328659e+02],\n",
       "       [1.366167e+02, 1.259929e+02],\n",
       "       [1.362363e+02, 1.698451e+02],\n",
       "       [1.590692e+02, 3.505680e+01],\n",
       "       [1.723477e+02, 7.579700e+00],\n",
       "       [1.327345e+02, 1.684480e+02],\n",
       "       [1.341035e+02, 1.640415e+02],\n",
       "       [1.411102e+02, 9.350590e+01],\n",
       "       [1.553292e+02, 8.863730e+01],\n",
       "       [1.718288e+02, 2.969713e+02],\n",
       "       [1.361828e+02, 1.457333e+02],\n",
       "       [1.453831e+02, 2.197596e+02],\n",
       "       [1.693803e+02, 2.975232e+02],\n",
       "       [1.357076e+02, 1.611914e+02],\n",
       "       [1.448094e+02, 2.177658e+02],\n",
       "       [1.399428e+02, 9.842230e+01],\n",
       "       [1.375214e+02, 1.824662e+02],\n",
       "       [1.376514e+02, 1.147994e+02],\n",
       "       [1.379508e+02, 1.336027e+02],\n",
       "       [1.355457e+02, 1.426545e+02],\n",
       "       [1.354781e+02, 1.425440e+02],\n",
       "       [1.478597e+02, 1.054012e+02],\n",
       "       [1.364135e+02, 1.719413e+02],\n",
       "       [1.431210e+02, 2.115119e+02],\n",
       "       [1.385766e+02, 1.886810e+02],\n",
       "       [1.318303e+02, 1.761448e+02],\n",
       "       [1.377271e+02, 1.825700e+02],\n",
       "       [1.426369e+02, 1.182397e+02],\n",
       "       [1.598944e+02, 3.319630e+01],\n",
       "       [1.619295e+02, 2.993873e+02],\n",
       "       [1.518719e+02, 2.398505e+02],\n",
       "       [1.521622e+02, 6.128890e+01],\n",
       "       [1.654254e+02, 2.700733e+02],\n",
       "       [1.415190e+02, 9.152340e+01],\n",
       "       [1.651793e+02, 2.986957e+02],\n",
       "       [1.787394e+02, 2.943610e+02],\n",
       "       [1.385898e+02, 1.067013e+02],\n",
       "       [1.355017e+02, 1.489039e+02],\n",
       "       [1.585679e+02, 8.108840e+01],\n",
       "       [1.355355e+02, 1.404395e+02],\n",
       "       [1.382141e+02, 1.383817e+02],\n",
       "       [1.558795e+02, 5.090640e+01],\n",
       "       [1.525423e+02, 2.416374e+02],\n",
       "       [1.365585e+02, 1.251980e+02],\n",
       "       [1.350244e+02, 1.608874e+02],\n",
       "       [1.544262e+02, 5.337670e+01],\n",
       "       [1.728970e+02, 2.965518e+02],\n",
       "       [1.355974e+02, 1.572672e+02],\n",
       "       [1.356907e+02, 1.382644e+02],\n",
       "       [1.362250e+02, 1.711211e+02],\n",
       "       [1.535267e+02, 5.585330e+01],\n",
       "       [1.420055e+02, 8.815940e+01],\n",
       "       [1.388574e+02, 1.061735e+02],\n",
       "       [1.439014e+02, 8.115650e+01],\n",
       "       [1.355511e+02, 1.479028e+02],\n",
       "       [1.720763e+02, 2.810857e+02],\n",
       "       [1.343395e+02, 1.647547e+02],\n",
       "       [1.360402e+02, 1.481787e+02],\n",
       "       [1.698576e+02, 2.775815e+02],\n",
       "       [1.365010e+02, 1.718921e+02],\n",
       "       [1.357028e+02, 1.616088e+02],\n",
       "       [1.341428e+02, 1.725778e+02],\n",
       "       [1.667290e+02, 6.029170e+01],\n",
       "       [1.568933e+02, 8.220630e+01],\n",
       "       [1.555246e+02, 4.156520e+01],\n",
       "       [1.615072e+02, 2.869040e+01],\n",
       "       [1.473270e+02, 7.226100e+01],\n",
       "       [1.359900e+02, 1.506384e+02],\n",
       "       [1.533561e+02, 2.437013e+02],\n",
       "       [1.966036e+02, 5.423400e+00],\n",
       "       [1.472197e+02, 2.269462e+02],\n",
       "       [1.511482e+02, 2.378440e+02],\n",
       "       [1.355894e+02, 1.434377e+02],\n",
       "       [1.368238e+02, 1.762857e+02],\n",
       "       [1.362157e+02, 1.701272e+02],\n",
       "       [1.355794e+02, 1.548911e+02],\n",
       "       [1.581354e+02, 3.721360e+01],\n",
       "       [1.477818e+02, 2.287438e+02],\n",
       "       [1.484872e+02, 2.298583e+02],\n",
       "       [1.360478e+02, 1.672798e+02],\n",
       "       [1.954555e+02, 4.182200e+00],\n",
       "       [1.804090e+02, 6.266000e-01],\n",
       "       [1.368180e+02, 1.777260e+02],\n",
       "       [1.374012e+02, 1.168949e+02],\n",
       "       [1.355679e+02, 1.499233e+02],\n",
       "       [1.396216e+02, 1.951353e+02],\n",
       "       [1.665209e+02, 1.933720e+01],\n",
       "       [1.476650e+02, 7.244670e+01],\n",
       "       [1.361872e+02, 1.298153e+02],\n",
       "       [1.435920e+02, 2.133184e+02],\n",
       "       [1.287259e+02, 2.297476e+02],\n",
       "       [1.355606e+02, 1.546352e+02],\n",
       "       [1.690530e+02, 2.774274e+02],\n",
       "       [1.355889e+02, 1.571724e+02],\n",
       "       [1.646284e+02, 2.310700e+01],\n",
       "       [1.290180e+02, 2.376877e+02],\n",
       "       [1.360977e+02, 1.327091e+02],\n",
       "       [1.826882e+02, 3.205300e+01],\n",
       "       [1.487368e+02, 1.048638e+02],\n",
       "       [1.530189e+02, 5.864650e+01],\n",
       "       [1.459288e+02, 2.227039e+02],\n",
       "       [1.485112e+02, 7.081200e+01],\n",
       "       [1.774407e+02, 2.949783e+02],\n",
       "       [1.355185e+02, 1.530497e+02],\n",
       "       [1.357857e+02, 1.638430e+02],\n",
       "       [1.600208e+02, 7.479040e+01],\n",
       "       [1.550591e+02, 2.488700e+02],\n",
       "       [1.358503e+02, 1.513175e+02],\n",
       "       [1.653341e+02, 2.072840e+01],\n",
       "       [1.504125e+02, 2.357325e+02],\n",
       "       [1.356005e+02, 1.383708e+02],\n",
       "       [1.357978e+02, 1.634999e+02],\n",
       "       [1.863999e+02, 2.624340e+01],\n",
       "       [1.872065e+02, 1.579400e+00],\n",
       "       [1.359270e+02, 1.319343e+02],\n",
       "       [1.359153e+02, 1.652902e+02],\n",
       "       [1.717524e+02, 9.543700e+00],\n",
       "       [1.385647e+02, 1.894314e+02],\n",
       "       [1.576289e+02, 2.995648e+02],\n",
       "       [1.381054e+02, 1.869622e+02],\n",
       "       [1.858354e+02, 2.440210e+01],\n",
       "       [1.369924e+02, 1.424789e+02],\n",
       "       [1.367124e+02, 1.745247e+02],\n",
       "       [1.355041e+02, 1.539318e+02],\n",
       "       [1.362154e+02, 1.472628e+02],\n",
       "       [1.541594e+02, 2.456423e+02],\n",
       "       [1.429304e+02, 8.410440e+01],\n",
       "       [1.735307e+02, 5.065080e+01],\n",
       "       [1.439110e+02, 8.000000e+01],\n",
       "       [1.556150e+02, 4.233740e+01],\n",
       "       [1.356027e+02, 1.518436e+02],\n",
       "       [1.478597e+02, 2.278589e+02],\n",
       "       [1.549580e+02, 5.331250e+01],\n",
       "       [1.365864e+02, 1.738406e+02],\n",
       "       [1.360917e+02, 1.469090e+02],\n",
       "       [1.558117e+02, 3.003223e+02],\n",
       "       [1.614523e+02, 2.625532e+02],\n",
       "       [1.420619e+02, 2.071823e+02],\n",
       "       [1.391916e+02, 1.276774e+02],\n",
       "       [1.355280e+02, 1.521456e+02],\n",
       "       [1.356037e+02, 1.523338e+02],\n",
       "       [1.356770e+02, 1.621255e+02],\n",
       "       [1.415198e+02, 9.039050e+01],\n",
       "       [1.355894e+02, 1.456069e+02],\n",
       "       [1.367458e+02, 1.231936e+02],\n",
       "       [1.433671e+02, 8.335780e+01],\n",
       "       [1.363130e+02, 1.702523e+02],\n",
       "       [1.365052e+02, 1.723836e+02],\n",
       "       [1.354643e+02, 1.509179e+02],\n",
       "       [1.410428e+02, 1.273891e+02],\n",
       "       [1.429526e+02, 2.942384e+02],\n",
       "       [1.355062e+02, 1.466339e+02],\n",
       "       [1.779094e+02, 3.998750e+01],\n",
       "       [1.355012e+02, 1.511757e+02],\n",
       "       [1.940049e+02, 1.183870e+01],\n",
       "       [1.355395e+02, 1.585797e+02],\n",
       "       [1.358029e+02, 1.341143e+02],\n",
       "       [1.379463e+02, 1.849572e+02],\n",
       "       [1.702766e+02, 1.130660e+01],\n",
       "       [1.337153e+02, 1.592393e+02],\n",
       "       [1.770340e+02, 2.785000e-01],\n",
       "       [1.411111e+02, 9.234420e+01],\n",
       "       [1.348695e+02, 1.661471e+02],\n",
       "       [1.355245e+02, 1.501655e+02],\n",
       "       [1.589861e+02, 3.429460e+01],\n",
       "       [1.631425e+02, 6.764560e+01],\n",
       "       [1.426469e+02, 2.096283e+02],\n",
       "       [1.792067e+02, 3.445000e-01],\n",
       "       [1.368921e+02, 2.847374e+02],\n",
       "       [1.817365e+02, 9.916000e-01],\n",
       "       [1.367580e+02, 1.215198e+02],\n",
       "       [1.940334e+02, 3.763400e+00],\n",
       "       [1.363857e+02, 1.255967e+02],\n",
       "       [1.496786e+02, 2.335412e+02],\n",
       "       [1.490748e+02, 2.316901e+02],\n",
       "       [1.472306e+02, 2.258282e+02],\n",
       "       [1.465417e+02, 2.236007e+02],\n",
       "       [1.459591e+02, 2.216975e+02],\n",
       "       [1.442328e+02, 2.157009e+02],\n",
       "       [1.416324e+02, 2.053025e+02],\n",
       "       [1.411974e+02, 2.033068e+02],\n",
       "       [1.407404e+02, 2.010913e+02],\n",
       "       [1.403946e+02, 1.993320e+02],\n",
       "       [1.399586e+02, 1.970089e+02],\n",
       "       [1.392429e+02, 1.929309e+02],\n",
       "       [1.389044e+02, 1.908370e+02],\n",
       "       [1.379856e+02, 1.845061e+02],\n",
       "       [1.374350e+02, 1.802685e+02],\n",
       "       [1.371773e+02, 1.781161e+02],\n",
       "       [1.369545e+02, 1.761608e+02],\n",
       "       [1.367405e+02, 1.741816e+02],\n",
       "       [1.362961e+02, 1.698060e+02],\n",
       "       [1.361128e+02, 1.676084e+02],\n",
       "       [1.395452e+02, 1.327550e+02],\n",
       "       [1.359830e+02, 1.658591e+02],\n",
       "       [1.357465e+02, 1.616646e+02],\n",
       "       [1.355992e+02, 1.573540e+02],\n",
       "       [1.354560e+02, 1.487019e+02],\n",
       "       [1.354517e+02, 1.469399e+02],\n",
       "       [1.354498e+02, 1.448030e+02],\n",
       "       [1.357019e+02, 1.360298e+02],\n",
       "       [1.360649e+02, 1.298189e+02],\n",
       "       [1.374270e+02, 1.152718e+02],\n",
       "       [1.379966e+02, 1.108823e+02],\n",
       "       [1.382928e+02, 1.087503e+02],\n",
       "       [1.388550e+02, 1.049478e+02],\n",
       "       [1.392134e+02, 1.026862e+02],\n",
       "       [1.402909e+02, 9.652540e+01],\n",
       "       [1.406858e+02, 9.446940e+01],\n",
       "       [1.424545e+02, 8.615670e+01],\n",
       "       [1.433879e+02, 8.217680e+01],\n",
       "       [1.444621e+02, 7.774870e+01],\n",
       "       [1.449160e+02, 7.591440e+01],\n",
       "       [1.547637e+02, 4.349170e+01],\n",
       "       [1.734728e+02, 5.597300e+00],\n",
       "       [1.671725e+02, 1.713290e+01],\n",
       "       [1.643817e+02, 2.264740e+01],\n",
       "       [1.634004e+02, 2.466560e+01],\n",
       "       [1.624364e+02, 2.669220e+01],\n",
       "       [1.607388e+02, 3.037270e+01],\n",
       "       [1.597929e+02, 3.247440e+01],\n",
       "       [1.581299e+02, 3.626550e+01],\n",
       "       [1.573001e+02, 3.822150e+01],\n",
       "       [1.564826e+02, 4.019140e+01],\n",
       "       [1.454052e+02, 7.508260e+01],\n",
       "       [1.448926e+02, 7.713070e+01],\n",
       "       [1.444506e+02, 7.891310e+01],\n",
       "       [1.429129e+02, 8.525610e+01],\n",
       "       [1.424236e+02, 8.737780e+01],\n",
       "       [1.419703e+02, 8.941840e+01],\n",
       "       [1.406755e+02, 9.569140e+01],\n",
       "       [1.402536e+02, 9.790940e+01],\n",
       "       [1.398654e+02, 1.000520e+02],\n",
       "       [1.394863e+02, 1.022404e+02],\n",
       "       [1.391658e+02, 1.041905e+02],\n",
       "       [1.385560e+02, 1.082083e+02],\n",
       "       [1.382351e+02, 1.104639e+02],\n",
       "       [1.379245e+02, 1.127102e+02],\n",
       "       [1.371588e+02, 1.190951e+02],\n",
       "       [1.369679e+02, 1.209407e+02],\n",
       "       [1.363523e+02, 1.276380e+02],\n",
       "       [1.354902e+02, 1.578740e+02],\n",
       "       [1.360443e+02, 1.318913e+02],\n",
       "       [1.359099e+02, 1.340879e+02],\n",
       "       [1.356146e+02, 1.403974e+02],\n",
       "       [1.355560e+02, 1.551800e+02],\n",
       "       [1.355979e+02, 1.573117e+02],\n",
       "       [1.356510e+02, 1.595029e+02],\n",
       "       [1.357283e+02, 1.618795e+02],\n",
       "       [1.358207e+02, 1.638379e+02],\n",
       "       [1.359686e+02, 1.659640e+02],\n",
       "       [1.361438e+02, 1.681868e+02],\n",
       "       [1.369447e+02, 1.767360e+02],\n",
       "       [1.371963e+02, 1.789660e+02],\n",
       "       [1.374147e+02, 1.808111e+02],\n",
       "       [1.376720e+02, 1.828666e+02],\n",
       "       [1.382839e+02, 1.874446e+02],\n",
       "       [1.388741e+02, 1.915039e+02],\n",
       "       [1.392151e+02, 1.936405e+02],\n",
       "       [1.395543e+02, 1.956442e+02],\n",
       "       [1.399228e+02, 1.977164e+02],\n",
       "       [1.412115e+02, 2.042258e+02],\n",
       "       [1.416816e+02, 2.063688e+02],\n",
       "       [1.420813e+02, 2.081180e+02],\n",
       "       [1.426230e+02, 2.103932e+02],\n",
       "       [1.436233e+02, 2.143508e+02],\n",
       "       [1.442237e+02, 2.166425e+02],\n",
       "       [1.447499e+02, 2.185906e+02],\n",
       "       [1.453635e+02, 2.207771e+02],\n",
       "       [1.466174e+02, 2.249833e+02],\n",
       "       [1.484094e+02, 2.307234e+02],\n",
       "       [1.505128e+02, 2.371873e+02],\n",
       "       [1.542490e+02, 2.469723e+02],\n",
       "       [1.559821e+02, 2.509724e+02],\n",
       "       [1.568403e+02, 2.528797e+02],\n",
       "       [1.577654e+02, 2.548871e+02],\n",
       "       [1.586793e+02, 2.568239e+02],\n",
       "       [1.605774e+02, 2.607737e+02],\n",
       "       [1.624961e+02, 2.646101e+02],\n",
       "       [1.633672e+02, 2.662757e+02],\n",
       "       [1.665632e+02, 2.720990e+02],\n",
       "       [1.675576e+02, 2.738165e+02],\n",
       "       [1.686621e+02, 2.756538e+02],\n",
       "       [1.708874e+02, 2.792237e+02],\n",
       "       [1.793753e+02, 2.942325e+02],\n",
       "       [1.645348e+02, 2.696522e+02],\n",
       "       [1.406115e+02, 2.022345e+02],\n",
       "       [1.370297e+02, 1.782437e+02],\n",
       "       [1.357943e+02, 1.631303e+02],\n",
       "       [1.356973e+02, 1.608261e+02],\n",
       "       [1.356205e+02, 1.586145e+02],\n",
       "       [1.355748e+02, 1.565123e+02],\n",
       "       [1.355488e+02, 1.545025e+02],\n",
       "       [1.355350e+02, 1.479456e+02],\n",
       "       [1.355574e+02, 1.455397e+02],\n",
       "       [1.356551e+02, 1.411772e+02],\n",
       "       [1.357402e+02, 1.388820e+02],\n",
       "       [1.358287e+02, 1.370315e+02],\n",
       "       [1.362666e+02, 1.302954e+02],\n",
       "       [1.364201e+02, 1.283067e+02],\n",
       "       [1.370617e+02, 1.214534e+02],\n",
       "       [1.393638e+02, 1.042250e+02],\n",
       "       [1.458224e+02, 7.455800e+01],\n",
       "       [1.556122e+02, 4.333620e+01],\n",
       "       [1.573158e+02, 3.915210e+01],\n",
       "       [1.608489e+02, 3.108390e+01],\n",
       "       [1.626252e+02, 2.725530e+01],\n",
       "       [1.636892e+02, 2.502980e+01],\n",
       "       [1.684673e+02, 1.559530e+01],\n",
       "       [1.726519e+02, 7.937700e+00],\n",
       "       [1.738949e+02, 5.742600e+00],\n",
       "       [1.748048e+02, 4.145500e+00],\n",
       "       [1.775757e+02, 1.789000e-01],\n",
       "       [1.351368e+02, 1.567072e+02],\n",
       "       [1.431101e+02, 1.213607e+02],\n",
       "       [1.461529e+02, 7.437730e+01],\n",
       "       [1.377565e+02, 1.163774e+02],\n",
       "       [1.273089e+02, 2.072448e+02],\n",
       "       [1.359375e+02, 1.363903e+02],\n",
       "       [1.358007e+02, 1.388717e+02],\n",
       "       [1.356420e+02, 1.431880e+02],\n",
       "       [1.355311e+02, 1.499111e+02],\n",
       "       [1.355344e+02, 1.521966e+02],\n",
       "       [1.355897e+02, 1.566156e+02],\n",
       "       [1.356427e+02, 1.590927e+02],\n",
       "       [1.360609e+02, 1.678960e+02],\n",
       "       [1.360499e+02, 1.684506e+02],\n",
       "       [1.354341e+02, 1.560556e+02],\n",
       "       [1.355696e+02, 1.550178e+02],\n",
       "       [1.355689e+02, 1.526641e+02],\n",
       "       [1.534201e+02, 3.001521e+02],\n",
       "       [1.779976e+02, 3.736000e-01],\n",
       "       [1.362955e+02, 1.480019e+02],\n",
       "       [1.560399e+02, 4.530600e+01],\n",
       "       [1.355874e+02, 1.527028e+02],\n",
       "       [1.355875e+02, 1.551769e+02],\n",
       "       [1.357663e+02, 1.645774e+02],\n",
       "       [1.323904e+02, 1.670287e+02],\n",
       "       [1.356663e+02, 1.627966e+02],\n",
       "       [1.356018e+02, 1.599200e+02],\n",
       "       [1.355837e+02, 1.529624e+02],\n",
       "       [1.494590e+02, 6.891410e+01],\n",
       "       [1.560380e+02, 4.658020e+01],\n",
       "       [1.797089e+02, 6.331000e-01],\n",
       "       [1.556158e+02, 4.894270e+01],\n",
       "       [1.492737e+02, 6.809510e+01],\n",
       "       [1.328540e+02, 1.772068e+02],\n",
       "       [1.757903e+02, 2.956607e+02],\n",
       "       [1.748360e+02, 2.958214e+02],\n",
       "       [1.355381e+02, 1.559647e+02],\n",
       "       [1.502496e+02, 6.613650e+01],\n",
       "       [1.517891e+02, 6.103280e+01],\n",
       "       [1.553485e+02, 5.091760e+01],\n",
       "       [1.811920e+02, 6.031000e-01],\n",
       "       [1.538978e+02, 5.615630e+01],\n",
       "       [1.513084e+02, 6.407510e+01],\n",
       "       [1.303837e+02, 1.824571e+02],\n",
       "       [1.738682e+02, 2.962121e+02],\n",
       "       [1.825646e+02, 9.953000e-01],\n",
       "       [1.833599e+02, 1.144100e+00],\n",
       "       [1.844169e+02, 9.344000e-01],\n",
       "       [1.315209e+02, 2.750315e+02],\n",
       "       [1.393777e+02, 1.329039e+02],\n",
       "       [1.682087e+02, 2.982452e+02],\n",
       "       [1.354271e+02, 1.550113e+02],\n",
       "       [1.356741e+02, 1.514738e+02],\n",
       "       [1.361626e+02, 1.441678e+02],\n",
       "       [1.852184e+02, 1.316800e+00],\n",
       "       [1.361395e+02, 1.455258e+02],\n",
       "       [1.358074e+02, 1.498000e+02],\n",
       "       [1.355295e+02, 1.535482e+02],\n",
       "       [1.667918e+02, 2.983653e+02],\n",
       "       [1.358385e+02, 1.496102e+02],\n",
       "       [1.634268e+02, 2.986647e+02],\n",
       "       [1.346076e+02, 1.664086e+02],\n",
       "       [1.351904e+02, 1.574124e+02],\n",
       "       [1.356076e+02, 1.523973e+02],\n",
       "       [1.366033e+02, 1.433866e+02],\n",
       "       [1.386717e+02, 1.291248e+02],\n",
       "       [1.904088e+02, 2.420900e+00],\n",
       "       [1.400823e+02, 1.230941e+02],\n",
       "       [1.351631e+02, 1.572448e+02],\n",
       "       [1.346806e+02, 1.630795e+02],\n",
       "       [1.597365e+02, 2.992337e+02],\n",
       "       [1.362609e+02, 1.477769e+02],\n",
       "       [1.916066e+02, 2.896500e+00],\n",
       "       [1.930427e+02, 2.916700e+00],\n",
       "       [1.372704e+02, 1.415804e+02],\n",
       "       [1.338662e+02, 1.704490e+02],\n",
       "       [1.326247e+02, 1.938610e+02],\n",
       "       [1.369569e+02, 1.441246e+02],\n",
       "       [1.409958e+02, 1.248940e+02],\n",
       "       [1.382186e+02, 1.378839e+02],\n",
       "       [1.506449e+02, 9.772510e+01],\n",
       "       [1.426878e+02, 1.196128e+02],\n",
       "       [1.370949e+02, 1.439003e+02],\n",
       "       [1.348985e+02, 1.579283e+02],\n",
       "       [1.324174e+02, 1.843839e+02],\n",
       "       [1.342383e+02, 1.608664e+02],\n",
       "       [1.377318e+02, 1.407017e+02],\n",
       "       [1.409662e+02, 1.263393e+02],\n",
       "       [1.509935e+02, 9.294710e+01],\n",
       "       [1.746778e+02, 4.289650e+01],\n",
       "       [1.584862e+02, 7.588490e+01],\n",
       "       [1.527445e+02, 9.030300e+01],\n",
       "       [1.456079e+02, 1.106874e+02],\n",
       "       [1.434992e+02, 1.177705e+02],\n",
       "       [1.412616e+02, 1.260042e+02],\n",
       "       [1.363117e+02, 1.474745e+02],\n",
       "       [1.350576e+02, 1.538721e+02],\n",
       "       [1.338272e+02, 1.611598e+02],\n",
       "       [1.311104e+02, 1.835656e+02],\n",
       "       [1.351484e+02, 2.781269e+02],\n",
       "       [1.286867e+02, 2.223408e+02],\n",
       "       [1.290990e+02, 1.988055e+02],\n",
       "       [1.296075e+02, 1.909666e+02],\n",
       "       [1.353607e+02, 1.509986e+02],\n",
       "       [1.456002e+02, 1.120847e+02],\n",
       "       [1.701308e+02, 5.376490e+01],\n",
       "       [1.739843e+02, 4.675270e+01],\n",
       "       [1.323371e+02, 1.637869e+02],\n",
       "       [1.270423e+02, 2.154063e+02],\n",
       "       [1.335898e+02, 2.842302e+02],\n",
       "       [1.258008e+02, 2.104524e+02],\n",
       "       [1.264546e+02, 2.007356e+02]])"
      ]
     },
     "execution_count": 15,
     "metadata": {},
     "output_type": "execute_result"
    }
   ],
   "source": [
    "bb = boundary[:-1,0:2]\n",
    "bb"
   ]
  },
  {
   "cell_type": "code",
   "execution_count": 20,
   "metadata": {},
   "outputs": [
    {
     "data": {
      "text/plain": [
       "<matplotlib.collections.PathCollection at 0x1c30c9114f0>"
      ]
     },
     "execution_count": 20,
     "metadata": {},
     "output_type": "execute_result"
    },
    {
     "data": {
      "image/png": "[encoded data removed]",
      "text/plain": [
       "<Figure size 432x288 with 1 Axes>"
      ]
     },
     "metadata": {
      "needs_background": "light"
     },
     "output_type": "display_data"
    }
   ],
   "source": [
    "plt.scatter(*plane.T, marker='.')\n",
    "plt.scatter(*bb.T, marker='.', color='r')"
   ]
  },
  {
   "attachments": {},
   "cell_type": "markdown",
   "metadata": {},
   "source": [
    "## Return results back to 3D point cloud"
   ]
  },
  {
   "cell_type": "code",
   "execution_count": 29,
   "metadata": {},
   "outputs": [
    {
     "data": {
      "text/plain": [
       "((7242, 3),\n",
       " array([[1.596447e+02, 1.434000e+00, 4.350000e-02],\n",
       "        [1.588055e+02, 3.018800e+00, 3.200000e-02],\n",
       "        [1.577942e+02, 5.002000e+00, 1.960000e-02],\n",
       "        ...,\n",
       "        [2.136085e+02, 9.413550e+01, 6.056479e+02],\n",
       "        [2.443198e+02, 7.408460e+01, 6.015392e+02],\n",
       "        [2.694602e+02, 5.860350e+01, 5.978210e+02]]))"
      ]
     },
     "execution_count": 29,
     "metadata": {},
     "output_type": "execute_result"
    }
   ],
   "source": [
    "points = np.array(pc.points)\n",
    "points.shape, points"
   ]
  },
  {
   "cell_type": "code",
   "execution_count": 30,
   "metadata": {},
   "outputs": [
    {
     "data": {
      "text/plain": [
       "(610.6522, -0.0009)"
      ]
     },
     "execution_count": 30,
     "metadata": {},
     "output_type": "execute_result"
    }
   ],
   "source": [
    "high_z = float(np.max(points[:, 2]))\n",
    "min_z = float(np.min(points[:, 2]))\n",
    "high_z, min_z"
   ]
  },
  {
   "cell_type": "code",
   "execution_count": 23,
   "metadata": {},
   "outputs": [
    {
     "name": "stderr",
     "output_type": "stream",
     "text": [
      "Remove Cylinder: 100%|██████████| 457/457 [00:00<00:00, 460.20it/s]\n"
     ]
    }
   ],
   "source": [
    "props_wall, props_bound = remove_wall.remove_wall(points, boundary[:,0:2], method=\"cylinder\", radius=0.07, min_z=min_z, high_z=high_z)"
   ]
  },
  {
   "cell_type": "code",
   "execution_count": 25,
   "metadata": {},
   "outputs": [
    {
     "name": "stderr",
     "output_type": "stream",
     "text": [
      "Remove Cylinder: 100%|██████████| 457/457 [00:01<00:00, 453.88it/s]\n"
     ]
    }
   ],
   "source": [
    "props_wall, props_bound = remove_wall.remove_cylinder(points, boundary[:,0:2], radius=0.07, min_z=min_z, high_z=high_z)"
   ]
  },
  {
   "cell_type": "code",
   "execution_count": 26,
   "metadata": {},
   "outputs": [
    {
     "data": {
      "text/plain": [
       "PointCloud with 6759 points."
      ]
     },
     "execution_count": 26,
     "metadata": {},
     "output_type": "execute_result"
    }
   ],
   "source": [
    "props_wall"
   ]
  },
  {
   "cell_type": "code",
   "execution_count": 23,
   "metadata": {},
   "outputs": [
    {
     "data": {
      "text/plain": [
       "((6759,), array([   0,    1,    2, ..., 7239, 7240, 7241]))"
      ]
     },
     "execution_count": 23,
     "metadata": {},
     "output_type": "execute_result"
    }
   ],
   "source": [
    "props_bound.shape, props_bound"
   ]
  },
  {
   "cell_type": "code",
   "execution_count": 27,
   "metadata": {},
   "outputs": [
    {
     "data": {
      "text/plain": [
       "PointCloud with 6759 points."
      ]
     },
     "execution_count": 27,
     "metadata": {},
     "output_type": "execute_result"
    }
   ],
   "source": [
    "pcd_bound = pc.select_by_index(props_bound, invert=True)\n",
    "pcd_bound.paint_uniform_color(np.array([1,0,0]))\n",
    "\n",
    "props_wall.paint_uniform_color(np.array([0,0,0]))"
   ]
  },
  {
   "attachments": {},
   "cell_type": "markdown",
   "metadata": {},
   "source": [
    "3D preview by Open3D"
   ]
  },
  {
   "cell_type": "code",
   "execution_count": 28,
   "metadata": {},
   "outputs": [],
   "source": [
    "o3d.visualization.draw_geometries([props_wall, pcd_bound])"
   ]
  },
  {
   "attachments": {},
   "cell_type": "markdown",
   "metadata": {},
   "source": [
    "---\n",
    "\n",
    "# Work on 3D point cloud directly"
   ]
  },
  {
   "cell_type": "code",
   "execution_count": 31,
   "metadata": {},
   "outputs": [
    {
     "name": "stderr",
     "output_type": "stream",
     "text": [
      "cal_boundary:   0%|          | 0/7242 [00:00<?, ?it/s]\n"
     ]
    },
    {
     "ename": "ValueError",
     "evalue": "operands could not be broadcast together with shapes (3,) (2,) ",
     "output_type": "error",
     "traceback": [
      "\u001b[1;31m---------------------------------------------------------------------------\u001b[0m",
      "\u001b[1;31mValueError\u001b[0m                                Traceback (most recent call last)",
      "\u001b[1;32m~\\AppData\\Local\\Temp/ipykernel_4412/3556019419.py\u001b[0m in \u001b[0;36m<module>\u001b[1;34m\u001b[0m\n\u001b[1;32m----> 1\u001b[1;33m \u001b[0mboundary\u001b[0m \u001b[1;33m=\u001b[0m \u001b[0mBPD\u001b[0m\u001b[1;33m.\u001b[0m\u001b[0mcal_boundary\u001b[0m\u001b[1;33m(\u001b[0m\u001b[0mnp\u001b[0m\u001b[1;33m.\u001b[0m\u001b[0marray\u001b[0m\u001b[1;33m(\u001b[0m\u001b[0mpc\u001b[0m\u001b[1;33m.\u001b[0m\u001b[0mpoints\u001b[0m\u001b[1;33m)\u001b[0m\u001b[1;33m)\u001b[0m\u001b[1;33m\u001b[0m\u001b[1;33m\u001b[0m\u001b[0m\n\u001b[0m",
      "\u001b[1;32md:\\OneDriveBusns\\Document\\BlenderMaize.ipynb\\01_edge_detection_draft\\11_BoundaryDetection4PointCloud\\BPD.py\u001b[0m in \u001b[0;36mcal_boundary\u001b[1;34m(points, k, save_filename, visualize)\u001b[0m\n\u001b[0;32m     36\u001b[0m             \u001b[0mp2\u001b[0m \u001b[1;33m=\u001b[0m \u001b[0mpoints\u001b[0m\u001b[1;33m[\u001b[0m\u001b[0mpairs\u001b[0m\u001b[1;33m[\u001b[0m\u001b[0mj\u001b[0m\u001b[1;33m]\u001b[0m\u001b[1;33m[\u001b[0m\u001b[1;36m0\u001b[0m\u001b[1;33m]\u001b[0m\u001b[1;33m]\u001b[0m\u001b[1;33m\u001b[0m\u001b[1;33m\u001b[0m\u001b[0m\n\u001b[0;32m     37\u001b[0m             \u001b[0mp3\u001b[0m \u001b[1;33m=\u001b[0m \u001b[0mpoints\u001b[0m\u001b[1;33m[\u001b[0m\u001b[0mpairs\u001b[0m\u001b[1;33m[\u001b[0m\u001b[0mj\u001b[0m\u001b[1;33m]\u001b[0m\u001b[1;33m[\u001b[0m\u001b[1;36m1\u001b[0m\u001b[1;33m]\u001b[0m\u001b[1;33m]\u001b[0m\u001b[1;33m\u001b[0m\u001b[1;33m\u001b[0m\u001b[0m\n\u001b[1;32m---> 38\u001b[1;33m             \u001b[0mc\u001b[0m \u001b[1;33m=\u001b[0m \u001b[0mC\u001b[0m\u001b[1;33m.\u001b[0m\u001b[0mCircle\u001b[0m\u001b[1;33m(\u001b[0m\u001b[0mp1\u001b[0m\u001b[1;33m,\u001b[0m \u001b[0mp2\u001b[0m\u001b[1;33m,\u001b[0m \u001b[0mp3\u001b[0m\u001b[1;33m)\u001b[0m\u001b[1;33m\u001b[0m\u001b[1;33m\u001b[0m\u001b[0m\n\u001b[0m\u001b[0;32m     39\u001b[0m             \u001b[1;32mif\u001b[0m \u001b[0mc\u001b[0m\u001b[1;33m.\u001b[0m\u001b[0mradius\u001b[0m \u001b[1;33m==\u001b[0m \u001b[1;32mNone\u001b[0m \u001b[1;33m:\u001b[0m\u001b[1;33m\u001b[0m\u001b[1;33m\u001b[0m\u001b[0m\n\u001b[0;32m     40\u001b[0m                 \u001b[1;32mcontinue\u001b[0m\u001b[1;33m\u001b[0m\u001b[1;33m\u001b[0m\u001b[0m\n",
      "\u001b[1;32md:\\OneDriveBusns\\Document\\BlenderMaize.ipynb\\01_edge_detection_draft\\11_BoundaryDetection4PointCloud\\Circle.py\u001b[0m in \u001b[0;36m__init__\u001b[1;34m(self, p1, p2, p3)\u001b[0m\n\u001b[0;32m     19\u001b[0m \u001b[1;33m\u001b[0m\u001b[0m\n\u001b[0;32m     20\u001b[0m         \u001b[0mself\u001b[0m\u001b[1;33m.\u001b[0m\u001b[0mcenter\u001b[0m \u001b[1;33m=\u001b[0m \u001b[0mnp\u001b[0m\u001b[1;33m.\u001b[0m\u001b[0marray\u001b[0m\u001b[1;33m(\u001b[0m\u001b[1;33m[\u001b[0m\u001b[0mcx\u001b[0m\u001b[1;33m,\u001b[0m\u001b[0mcy\u001b[0m\u001b[1;33m]\u001b[0m\u001b[1;33m)\u001b[0m\u001b[1;33m\u001b[0m\u001b[1;33m\u001b[0m\u001b[0m\n\u001b[1;32m---> 21\u001b[1;33m         \u001b[0mself\u001b[0m\u001b[1;33m.\u001b[0m\u001b[0mradius\u001b[0m \u001b[1;33m=\u001b[0m \u001b[0mround\u001b[0m\u001b[1;33m(\u001b[0m\u001b[0mnp\u001b[0m\u001b[1;33m.\u001b[0m\u001b[0mlinalg\u001b[0m\u001b[1;33m.\u001b[0m\u001b[0mnorm\u001b[0m\u001b[1;33m(\u001b[0m\u001b[0mp1\u001b[0m\u001b[1;33m-\u001b[0m\u001b[0mself\u001b[0m\u001b[1;33m.\u001b[0m\u001b[0mcenter\u001b[0m\u001b[1;33m)\u001b[0m\u001b[1;33m,\u001b[0m \u001b[1;36m5\u001b[0m\u001b[1;33m)\u001b[0m\u001b[1;33m\u001b[0m\u001b[1;33m\u001b[0m\u001b[0m\n\u001b[0m\u001b[0;32m     22\u001b[0m \u001b[1;33m\u001b[0m\u001b[0m\n\u001b[0;32m     23\u001b[0m     \u001b[1;32mdef\u001b[0m \u001b[0mprint\u001b[0m\u001b[1;33m(\u001b[0m\u001b[0mself\u001b[0m\u001b[1;33m)\u001b[0m \u001b[1;33m:\u001b[0m\u001b[1;33m\u001b[0m\u001b[1;33m\u001b[0m\u001b[0m\n",
      "\u001b[1;31mValueError\u001b[0m: operands could not be broadcast together with shapes (3,) (2,) "
     ]
    }
   ],
   "source": [
    "boundary = BPD.cal_boundary(np.array(pc.points))"
   ]
  }
 ],
 "metadata": {
  "kernelspec": {
   "display_name": "lab",
   "language": "python",
   "name": "python3"
  },
  "language_info": {
   "codemirror_mode": {
    "name": "ipython",
    "version": 3
   },
   "file_extension": ".py",
   "mimetype": "text/x-python",
   "name": "python",
   "nbconvert_exporter": "python",
   "pygments_lexer": "ipython3",
   "version": "3.8.12"
  },
  "orig_nbformat": 4
 },
 "nbformat": 4,
 "nbformat_minor": 2
}
